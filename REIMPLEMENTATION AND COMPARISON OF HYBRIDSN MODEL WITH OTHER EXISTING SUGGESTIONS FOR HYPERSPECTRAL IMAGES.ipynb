{
 "cells": [
  {
   "cell_type": "code",
   "execution_count": 109,
   "id": "f83f9ed8",
   "metadata": {},
   "outputs": [],
   "source": [
    "import scipy.io as sio\n",
    "\n",
    "mat = sio.loadmat(\"C:/Users/DELL/Downloads/Indian_pines_corrected.mat\")"
   ]
  },
  {
   "cell_type": "code",
   "execution_count": 110,
   "id": "77a98626",
   "metadata": {},
   "outputs": [
    {
     "data": {
      "text/plain": [
       "{'__header__': b'MATLAB 5.0 MAT-file, Platform: GLNXA64, Created on: Fri May 20 18:47:44 2011',\n",
       " '__version__': '1.0',\n",
       " '__globals__': [],\n",
       " 'indian_pines_corrected': array([[[3172, 4142, 4506, ..., 1057, 1020, 1020],\n",
       "         [2580, 4266, 4502, ..., 1064, 1029, 1020],\n",
       "         [3687, 4266, 4421, ..., 1061, 1030, 1016],\n",
       "         ...,\n",
       "         [2570, 3890, 4320, ..., 1042, 1021, 1015],\n",
       "         [3170, 4130, 4320, ..., 1054, 1024, 1020],\n",
       "         [3172, 3890, 4316, ..., 1043, 1034, 1016]],\n",
       " \n",
       "        [[2576, 4388, 4334, ..., 1047, 1030, 1006],\n",
       "         [2747, 4264, 4592, ..., 1055, 1039, 1015],\n",
       "         [2750, 4268, 4423, ..., 1047, 1026, 1015],\n",
       "         ...,\n",
       "         [3859, 4512, 4605, ..., 1056, 1035, 1015],\n",
       "         [3686, 4264, 4690, ..., 1051, 1012, 1020],\n",
       "         [2744, 4268, 4597, ..., 1047, 1019, 1016]],\n",
       " \n",
       "        [[2744, 4146, 4416, ..., 1055, 1029, 1025],\n",
       "         [2576, 4389, 4416, ..., 1051, 1021, 1011],\n",
       "         [2744, 4273, 4420, ..., 1068, 1033, 1010],\n",
       "         ...,\n",
       "         [2570, 4266, 4509, ..., 1051, 1025, 1010],\n",
       "         [2576, 4262, 4496, ..., 1047, 1029, 1020],\n",
       "         [2742, 4142, 4230, ..., 1042, 1025, 1011]],\n",
       " \n",
       "        ...,\n",
       " \n",
       "        [[3324, 3728, 4002, ..., 1003, 1004, 1004],\n",
       "         [2983, 3604, 3829, ..., 1011, 1013, 1008],\n",
       "         [2988, 3612, 3913, ..., 1012, 1001, 1004],\n",
       "         ...,\n",
       "         [2564, 4115, 4103, ..., 1003, 1005, 1013],\n",
       "         [2730, 4111, 4103, ..., 1015, 1013, 1004],\n",
       "         [3156, 3991, 4103, ..., 1017, 1014, 1000]],\n",
       " \n",
       "        [[3161, 3731, 3834, ..., 1002, 1000, 1000],\n",
       "         [2727, 3742, 4011, ...,  999,  991, 1003],\n",
       "         [2988, 4114, 4011, ..., 1006, 1008, 1013],\n",
       "         ...,\n",
       "         [3156, 3858, 4016, ..., 1011, 1004, 1003],\n",
       "         [3159, 3858, 4100, ..., 1016, 1000, 1000],\n",
       "         [2561, 3866, 4003, ..., 1008, 1008, 1000]],\n",
       " \n",
       "        [[2979, 3728, 3732, ..., 1006, 1004, 1000],\n",
       "         [2977, 3728, 3741, ..., 1007, 1009,  990],\n",
       "         [2814, 3728, 3914, ...,  999, 1009, 1003],\n",
       "         ...,\n",
       "         [3153, 3864, 4282, ..., 1003, 1008, 1000],\n",
       "         [3155, 4104, 4106, ..., 1011, 1005, 1003],\n",
       "         [3323, 3860, 4197, ..., 1007, 1004, 1000]]], dtype=uint16)}"
      ]
     },
     "execution_count": 110,
     "metadata": {},
     "output_type": "execute_result"
    }
   ],
   "source": [
    "mat"
   ]
  },
  {
   "cell_type": "code",
   "execution_count": 111,
   "id": "e4650531",
   "metadata": {},
   "outputs": [
    {
     "data": {
      "text/plain": [
       "{'__header__': b'MATLAB 5.0 MAT-file, Platform: GLNXA64, Created on: Fri May 20 18:25:41 2011',\n",
       " '__version__': '1.0',\n",
       " '__globals__': [],\n",
       " 'indian_pines_gt': array([[3, 3, 3, ..., 0, 0, 0],\n",
       "        [3, 3, 3, ..., 0, 0, 0],\n",
       "        [3, 3, 3, ..., 0, 0, 0],\n",
       "        ...,\n",
       "        [0, 0, 0, ..., 0, 0, 0],\n",
       "        [0, 0, 0, ..., 0, 0, 0],\n",
       "        [0, 0, 0, ..., 0, 0, 0]], dtype=uint8)}"
      ]
     },
     "execution_count": 111,
     "metadata": {},
     "output_type": "execute_result"
    }
   ],
   "source": [
    "gt = sio.loadmat(\"C:/Users/DELL/Downloads/Indian_pines_gt.mat\")\n",
    "gt"
   ]
  },
  {
   "cell_type": "code",
   "execution_count": 112,
   "id": "f256286a",
   "metadata": {},
   "outputs": [
    {
     "data": {
      "text/plain": [
       "145"
      ]
     },
     "execution_count": 112,
     "metadata": {},
     "output_type": "execute_result"
    }
   ],
   "source": [
    "len(mat['indian_pines_corrected'])"
   ]
  },
  {
   "cell_type": "code",
   "execution_count": 113,
   "id": "660b91e8",
   "metadata": {},
   "outputs": [
    {
     "data": {
      "text/plain": [
       "145"
      ]
     },
     "execution_count": 113,
     "metadata": {},
     "output_type": "execute_result"
    }
   ],
   "source": [
    "len(gt['indian_pines_gt'])"
   ]
  },
  {
   "cell_type": "code",
   "execution_count": 114,
   "id": "caabaa51",
   "metadata": {},
   "outputs": [
    {
     "data": {
      "text/plain": [
       "numpy.ndarray"
      ]
     },
     "execution_count": 114,
     "metadata": {},
     "output_type": "execute_result"
    }
   ],
   "source": [
    "type(mat['indian_pines_corrected'][0])"
   ]
  },
  {
   "cell_type": "code",
   "execution_count": 1,
   "id": "1a4438ec",
   "metadata": {},
   "outputs": [],
   "source": [
    "import keras\n",
    "from keras.layers import Conv2D, Conv3D, Flatten, Dense, Reshape, BatchNormalization\n",
    "from keras.layers import Dropout, Input\n",
    "from tensorflow.keras.models import Model\n",
    "from tensorflow.keras.optimizers import Adam, SGD\n",
    "from keras.callbacks import ModelCheckpoint\n",
    "from keras.utils import np_utils\n",
    "from keras import backend as Kb\n",
    "from keras.layers import Lambda\n",
    "from keras.layers import Activation\n",
    "from keras.layers.merge import add, concatenate\n",
    "from keras.layers import AveragePooling2D\n",
    "from tensorflow.keras.utils import plot_model\n",
    " \n",
    "from sklearn.model_selection import train_test_split\n",
    "from sklearn.metrics import confusion_matrix, accuracy_score, classification_report, cohen_kappa_score\n",
    " \n",
    "from sklearn.decomposition import FactorAnalysis\n",
    "from sklearn.decomposition import PCA\n",
    "from operator import truediv\n",
    " \n",
    "import numpy as np\n",
    "import matplotlib.pyplot as plt\n",
    "import scipy.io as sio\n",
    "import os\n",
    "import spectral"
   ]
  },
  {
   "cell_type": "code",
   "execution_count": 2,
   "id": "8ce6921c",
   "metadata": {},
   "outputs": [],
   "source": [
    "dataset = 'IP'\n",
    "test_ratio = 0.7\n",
    "windowSize = 25"
   ]
  },
  {
   "cell_type": "code",
   "execution_count": 3,
   "id": "d68a2c57",
   "metadata": {},
   "outputs": [],
   "source": [
    "def applyPCA(X, numComponents):\n",
    "    newX = np.reshape(X, (-1, X.shape[2]))\n",
    "    pca = PCA(n_components=numComponents, whiten=True)\n",
    "    newX = pca.fit_transform(newX)\n",
    "    newX = np.reshape(newX, (X.shape[0],X.shape[1], numComponents))\n",
    "    return newX, pca"
   ]
  },
  {
   "cell_type": "code",
   "execution_count": 4,
   "id": "14f85caf",
   "metadata": {},
   "outputs": [],
   "source": [
    "def loadData(name):\n",
    "    data_path = \"C:/Users/DELL/Downloads/\"\n",
    "    if name == 'IP':\n",
    "        data = sio.loadmat(os.path.join(data_path, 'Indian_pines_corrected.mat'))['indian_pines_corrected']\n",
    "        labels = sio.loadmat(os.path.join(data_path, 'Indian_pines_gt.mat'))['indian_pines_gt']\n",
    "    \n",
    "    return data, labels"
   ]
  },
  {
   "cell_type": "code",
   "execution_count": 5,
   "id": "7a52494a",
   "metadata": {},
   "outputs": [],
   "source": [
    "def splitTrainTestSet(X, y, testRatio, randomState=345):\n",
    "    X_train, X_test, y_train, y_test = train_test_split(X, y, test_size=testRatio, random_state=randomState,\n",
    "                                                        stratify=y)\n",
    "    return X_train, X_test, y_train, y_test\n"
   ]
  },
  {
   "cell_type": "code",
   "execution_count": 6,
   "id": "505939c7",
   "metadata": {},
   "outputs": [],
   "source": [
    "def padWithZeros(X, margin=2):\n",
    "    newX = np.zeros((X.shape[0] + 2 * margin, X.shape[1] + 2* margin, X.shape[2]))\n",
    "    x_offset = margin\n",
    "    y_offset = margin\n",
    "    newX[x_offset:X.shape[0] + x_offset, y_offset:X.shape[1] + y_offset, :] = X\n",
    "    return newX"
   ]
  },
  {
   "cell_type": "code",
   "execution_count": 7,
   "id": "37a45b60",
   "metadata": {},
   "outputs": [],
   "source": [
    "def createImageCubes(X, y, windowSize=5, removeZeroLabels = True):\n",
    "    margin = int((windowSize - 1) / 2)\n",
    "    zeroPaddedX = padWithZeros(X, margin=margin)\n",
    "    # split patches\n",
    "    patchesData = np.zeros((X.shape[0] * X.shape[1], windowSize, windowSize, X.shape[2]))\n",
    "    patchesLabels = np.zeros((X.shape[0] * X.shape[1]))\n",
    "    patchIndex = 0\n",
    "    for r in range(margin, zeroPaddedX.shape[0] - margin):\n",
    "        for c in range(margin, zeroPaddedX.shape[1] - margin):\n",
    "            patch = zeroPaddedX[r - margin:r + margin + 1, c - margin:c + margin + 1]   \n",
    "            patchesData[patchIndex, :, :, :] = patch\n",
    "            patchesLabels[patchIndex] = y[r-margin, c-margin]\n",
    "            patchIndex = patchIndex + 1\n",
    "    if removeZeroLabels:\n",
    "        patchesData = patchesData[patchesLabels>0,:,:,:]\n",
    "        patchesLabels = patchesLabels[patchesLabels>0]\n",
    "        patchesLabels -= 1\n",
    "    return patchesData, patchesLabels\n"
   ]
  },
  {
   "cell_type": "code",
   "execution_count": 8,
   "id": "02af7bb1",
   "metadata": {},
   "outputs": [
    {
     "data": {
      "text/plain": [
       "((145, 145, 200), (145, 145))"
      ]
     },
     "execution_count": 8,
     "metadata": {},
     "output_type": "execute_result"
    }
   ],
   "source": [
    "X, y = loadData(dataset)\n",
    "\n",
    "X.shape, y.shape"
   ]
  },
  {
   "cell_type": "code",
   "execution_count": 9,
   "id": "18845b68",
   "metadata": {},
   "outputs": [],
   "source": [
    "#K = X.shape[2]"
   ]
  },
  {
   "cell_type": "code",
   "execution_count": 10,
   "id": "b12bfc28",
   "metadata": {},
   "outputs": [
    {
     "data": {
      "text/plain": [
       "(145, 145, 16)"
      ]
     },
     "execution_count": 10,
     "metadata": {},
     "output_type": "execute_result"
    }
   ],
   "source": [
    "if dataset == 'IP':\n",
    "    K = 16 \n",
    "X,pca = applyPCA(X,numComponents=K)\n",
    "\n",
    "X.shape\n"
   ]
  },
  {
   "cell_type": "code",
   "execution_count": 11,
   "id": "683574bb",
   "metadata": {},
   "outputs": [
    {
     "data": {
      "text/plain": [
       "((10249, 25, 25, 16), (10249,))"
      ]
     },
     "execution_count": 11,
     "metadata": {},
     "output_type": "execute_result"
    }
   ],
   "source": [
    "X, y = createImageCubes(X, y, windowSize=windowSize)\n",
    "\n",
    "X.shape, y.shape"
   ]
  },
  {
   "cell_type": "code",
   "execution_count": 12,
   "id": "08d690b3",
   "metadata": {},
   "outputs": [
    {
     "data": {
      "text/plain": [
       "((3074, 25, 25, 16), (7175, 25, 25, 16), (3074,), (7175,))"
      ]
     },
     "execution_count": 12,
     "metadata": {},
     "output_type": "execute_result"
    }
   ],
   "source": [
    "Xtrain, Xtest, ytrain, ytest = splitTrainTestSet(X, y, test_ratio)\n",
    "\n",
    "Xtrain.shape, Xtest.shape, ytrain.shape, ytest.shape"
   ]
  },
  {
   "cell_type": "code",
   "execution_count": 13,
   "id": "313efb21",
   "metadata": {},
   "outputs": [
    {
     "data": {
      "text/plain": [
       "(3074, 25, 25, 16, 1)"
      ]
     },
     "execution_count": 13,
     "metadata": {},
     "output_type": "execute_result"
    }
   ],
   "source": [
    "Xtrain = Xtrain.reshape(-1, windowSize, windowSize, K, 1)\n",
    "Xtrain.shape"
   ]
  },
  {
   "cell_type": "code",
   "execution_count": 14,
   "id": "ad7e9338",
   "metadata": {},
   "outputs": [
    {
     "data": {
      "text/plain": [
       "(3074, 16)"
      ]
     },
     "execution_count": 14,
     "metadata": {},
     "output_type": "execute_result"
    }
   ],
   "source": [
    "ytrain = np_utils.to_categorical(ytrain)\n",
    "ytrain.shape"
   ]
  },
  {
   "cell_type": "code",
   "execution_count": 15,
   "id": "25d4b329",
   "metadata": {},
   "outputs": [],
   "source": [
    "S = windowSize\n",
    "L = K\n",
    "if dataset =='IP':\n",
    "    output_units = 16"
   ]
  },
  {
   "cell_type": "code",
   "execution_count": 16,
   "id": "7bc5e658",
   "metadata": {},
   "outputs": [],
   "source": [
    "## input layer\n",
    "input_layer = Input((S, S, L, 1))\n",
    "\n",
    "## convolutional layers\n",
    "conv_layer1 = Conv3D(filters=8, kernel_size=(3, 3, 7), activation='relu')(input_layer)\n",
    "conv_layer2 = Conv3D(filters=16, kernel_size=(3, 3, 5), activation='relu')(conv_layer1)\n",
    "conv_layer3 = Conv3D(filters=32, kernel_size=(3, 3, 3), activation='relu')(conv_layer2)\n",
    "#print(conv_layer3._keras_shape)\n",
    "#conv3d_shape = conv_layer3.shape\n",
    "conv_layer3 = Reshape((19, 19, 128))(conv_layer3)\n",
    "conv_layer4 = Conv2D(filters=64, kernel_size=(3,3), activation='relu')(conv_layer3)\n",
    "\n",
    "flatten_layer = Flatten()(conv_layer4)\n",
    "\n",
    "## fully connected layers\n",
    "dense_layer1 = Dense(units=256, activation='relu')(flatten_layer)\n",
    "dense_layer1 = Dropout(0.4)(dense_layer1)\n",
    "dense_layer2 = Dense(units=128, activation='relu')(dense_layer1)\n",
    "dense_layer2 = Dropout(0.4)(dense_layer2)\n",
    "output_layer = Dense(units=output_units, activation='softmax')(dense_layer2)"
   ]
  },
  {
   "cell_type": "code",
   "execution_count": 17,
   "id": "ee361ff2",
   "metadata": {},
   "outputs": [],
   "source": [
    "model = Model(inputs=input_layer, outputs=output_layer)"
   ]
  },
  {
   "cell_type": "code",
   "execution_count": 18,
   "id": "3147d34b",
   "metadata": {},
   "outputs": [
    {
     "name": "stdout",
     "output_type": "stream",
     "text": [
      "Model: \"model\"\n",
      "_________________________________________________________________\n",
      "Layer (type)                 Output Shape              Param #   \n",
      "=================================================================\n",
      "input_1 (InputLayer)         [(None, 25, 25, 16, 1)]   0         \n",
      "_________________________________________________________________\n",
      "conv3d (Conv3D)              (None, 23, 23, 10, 8)     512       \n",
      "_________________________________________________________________\n",
      "conv3d_1 (Conv3D)            (None, 21, 21, 6, 16)     5776      \n",
      "_________________________________________________________________\n",
      "conv3d_2 (Conv3D)            (None, 19, 19, 4, 32)     13856     \n",
      "_________________________________________________________________\n",
      "reshape (Reshape)            (None, 19, 19, 128)       0         \n",
      "_________________________________________________________________\n",
      "conv2d (Conv2D)              (None, 17, 17, 64)        73792     \n",
      "_________________________________________________________________\n",
      "flatten (Flatten)            (None, 18496)             0         \n",
      "_________________________________________________________________\n",
      "dense (Dense)                (None, 256)               4735232   \n",
      "_________________________________________________________________\n",
      "dropout (Dropout)            (None, 256)               0         \n",
      "_________________________________________________________________\n",
      "dense_1 (Dense)              (None, 128)               32896     \n",
      "_________________________________________________________________\n",
      "dropout_1 (Dropout)          (None, 128)               0         \n",
      "_________________________________________________________________\n",
      "dense_2 (Dense)              (None, 16)                2064      \n",
      "=================================================================\n",
      "Total params: 4,864,128\n",
      "Trainable params: 4,864,128\n",
      "Non-trainable params: 0\n",
      "_________________________________________________________________\n"
     ]
    }
   ],
   "source": [
    "model.summary()"
   ]
  },
  {
   "cell_type": "code",
   "execution_count": 19,
   "id": "abeac264",
   "metadata": {},
   "outputs": [],
   "source": [
    "adam = Adam(learning_rate=0.001, decay=1e-06)\n",
    "model.compile(loss='categorical_crossentropy', optimizer=adam, metrics=['accuracy'])"
   ]
  },
  {
   "cell_type": "code",
   "execution_count": 20,
   "id": "b8652674",
   "metadata": {},
   "outputs": [],
   "source": [
    "filepath = \"best-model.hdf5\"\n",
    "checkpoint = ModelCheckpoint(filepath, monitor='acc', verbose=1, save_best_only=True, mode='max')\n",
    "callbacks_list = [checkpoint]"
   ]
  },
  {
   "cell_type": "code",
   "execution_count": 135,
   "id": "531012fb",
   "metadata": {},
   "outputs": [
    {
     "name": "stdout",
     "output_type": "stream",
     "text": [
      "Epoch 1/100\n",
      "13/13 [==============================] - 46s 3s/step - loss: 2.4879 - accuracy: 0.1975\n",
      "WARNING:tensorflow:Can save best model only with acc available, skipping.\n",
      "Epoch 2/100\n",
      "13/13 [==============================] - 39s 3s/step - loss: 1.7988 - accuracy: 0.4063\n",
      "WARNING:tensorflow:Can save best model only with acc available, skipping.\n",
      "Epoch 3/100\n",
      "13/13 [==============================] - 38s 3s/step - loss: 1.1981 - accuracy: 0.5930\n",
      "WARNING:tensorflow:Can save best model only with acc available, skipping.\n",
      "Epoch 4/100\n",
      "13/13 [==============================] - 40s 3s/step - loss: 0.7784 - accuracy: 0.7411\n",
      "WARNING:tensorflow:Can save best model only with acc available, skipping.\n",
      "Epoch 5/100\n",
      "13/13 [==============================] - 41s 3s/step - loss: 0.4465 - accuracy: 0.8601\n",
      "WARNING:tensorflow:Can save best model only with acc available, skipping.\n",
      "Epoch 6/100\n",
      "13/13 [==============================] - 41s 3s/step - loss: 0.2318 - accuracy: 0.9281\n",
      "WARNING:tensorflow:Can save best model only with acc available, skipping.\n",
      "Epoch 7/100\n",
      "13/13 [==============================] - 38s 3s/step - loss: 0.1562 - accuracy: 0.9480\n",
      "WARNING:tensorflow:Can save best model only with acc available, skipping.\n",
      "Epoch 8/100\n",
      "13/13 [==============================] - 40s 3s/step - loss: 0.0915 - accuracy: 0.9681\n",
      "WARNING:tensorflow:Can save best model only with acc available, skipping.\n",
      "Epoch 9/100\n",
      "13/13 [==============================] - 36s 3s/step - loss: 0.0883 - accuracy: 0.9691\n",
      "WARNING:tensorflow:Can save best model only with acc available, skipping.\n",
      "Epoch 10/100\n",
      "13/13 [==============================] - 36s 3s/step - loss: 0.1052 - accuracy: 0.9639\n",
      "WARNING:tensorflow:Can save best model only with acc available, skipping.\n",
      "Epoch 11/100\n",
      "13/13 [==============================] - 36s 3s/step - loss: 0.1085 - accuracy: 0.9678\n",
      "WARNING:tensorflow:Can save best model only with acc available, skipping.\n",
      "Epoch 12/100\n",
      "13/13 [==============================] - 36s 3s/step - loss: 0.0585 - accuracy: 0.9824\n",
      "WARNING:tensorflow:Can save best model only with acc available, skipping.\n",
      "Epoch 13/100\n",
      "13/13 [==============================] - 36s 3s/step - loss: 0.0522 - accuracy: 0.9844\n",
      "WARNING:tensorflow:Can save best model only with acc available, skipping.\n",
      "Epoch 14/100\n",
      "13/13 [==============================] - 35s 3s/step - loss: 0.0387 - accuracy: 0.9899\n",
      "WARNING:tensorflow:Can save best model only with acc available, skipping.\n",
      "Epoch 15/100\n",
      "13/13 [==============================] - 91s 7s/step - loss: 0.0411 - accuracy: 0.9860\n",
      "WARNING:tensorflow:Can save best model only with acc available, skipping.\n",
      "Epoch 16/100\n",
      "13/13 [==============================] - 38s 3s/step - loss: 0.0276 - accuracy: 0.9928\n",
      "WARNING:tensorflow:Can save best model only with acc available, skipping.\n",
      "Epoch 17/100\n",
      "13/13 [==============================] - 41s 3s/step - loss: 0.1080 - accuracy: 0.9675\n",
      "WARNING:tensorflow:Can save best model only with acc available, skipping.\n",
      "Epoch 18/100\n",
      "13/13 [==============================] - 37s 3s/step - loss: 0.0511 - accuracy: 0.9841\n",
      "WARNING:tensorflow:Can save best model only with acc available, skipping.\n",
      "Epoch 19/100\n",
      "13/13 [==============================] - 36s 3s/step - loss: 0.0379 - accuracy: 0.9886\n",
      "WARNING:tensorflow:Can save best model only with acc available, skipping.\n",
      "Epoch 20/100\n",
      "13/13 [==============================] - 40s 3s/step - loss: 0.0258 - accuracy: 0.9925\n",
      "WARNING:tensorflow:Can save best model only with acc available, skipping.\n",
      "Epoch 21/100\n",
      "13/13 [==============================] - 48s 4s/step - loss: 0.0161 - accuracy: 0.9958\n",
      "WARNING:tensorflow:Can save best model only with acc available, skipping.\n",
      "Epoch 22/100\n",
      "13/13 [==============================] - 48s 4s/step - loss: 0.0154 - accuracy: 0.9938\n",
      "WARNING:tensorflow:Can save best model only with acc available, skipping.\n",
      "Epoch 23/100\n",
      "13/13 [==============================] - 42s 3s/step - loss: 0.0221 - accuracy: 0.9941\n",
      "WARNING:tensorflow:Can save best model only with acc available, skipping.\n",
      "Epoch 24/100\n",
      "13/13 [==============================] - 42s 3s/step - loss: 0.0329 - accuracy: 0.9922\n",
      "WARNING:tensorflow:Can save best model only with acc available, skipping.\n",
      "Epoch 25/100\n",
      "13/13 [==============================] - 48s 4s/step - loss: 0.0222 - accuracy: 0.9915\n",
      "WARNING:tensorflow:Can save best model only with acc available, skipping.\n",
      "Epoch 26/100\n",
      "13/13 [==============================] - 44s 3s/step - loss: 0.0108 - accuracy: 0.9964\n",
      "WARNING:tensorflow:Can save best model only with acc available, skipping.\n",
      "Epoch 27/100\n",
      "13/13 [==============================] - 43s 3s/step - loss: 0.0117 - accuracy: 0.9971\n",
      "WARNING:tensorflow:Can save best model only with acc available, skipping.\n",
      "Epoch 28/100\n",
      "13/13 [==============================] - 39s 3s/step - loss: 0.0115 - accuracy: 0.9967\n",
      "WARNING:tensorflow:Can save best model only with acc available, skipping.\n",
      "Epoch 29/100\n",
      "13/13 [==============================] - 38s 3s/step - loss: 0.0113 - accuracy: 0.9971\n",
      "WARNING:tensorflow:Can save best model only with acc available, skipping.\n",
      "Epoch 30/100\n",
      "13/13 [==============================] - 38s 3s/step - loss: 0.0162 - accuracy: 0.9964\n",
      "WARNING:tensorflow:Can save best model only with acc available, skipping.\n",
      "Epoch 31/100\n",
      "13/13 [==============================] - 39s 3s/step - loss: 0.0111 - accuracy: 0.9971\n",
      "WARNING:tensorflow:Can save best model only with acc available, skipping.\n",
      "Epoch 32/100\n",
      "13/13 [==============================] - 41s 3s/step - loss: 0.0151 - accuracy: 0.9951\n",
      "WARNING:tensorflow:Can save best model only with acc available, skipping.\n",
      "Epoch 33/100\n",
      "13/13 [==============================] - 38s 3s/step - loss: 0.0135 - accuracy: 0.9961\n",
      "WARNING:tensorflow:Can save best model only with acc available, skipping.\n",
      "Epoch 34/100\n",
      "13/13 [==============================] - 40s 3s/step - loss: 0.0212 - accuracy: 0.9945\n",
      "WARNING:tensorflow:Can save best model only with acc available, skipping.\n",
      "Epoch 35/100\n",
      "13/13 [==============================] - 41s 3s/step - loss: 0.0147 - accuracy: 0.9951\n",
      "WARNING:tensorflow:Can save best model only with acc available, skipping.\n",
      "Epoch 36/100\n",
      "13/13 [==============================] - 39s 3s/step - loss: 0.0160 - accuracy: 0.9964\n",
      "WARNING:tensorflow:Can save best model only with acc available, skipping.\n",
      "Epoch 37/100\n",
      "13/13 [==============================] - 49s 4s/step - loss: 0.0092 - accuracy: 0.9977\n",
      "WARNING:tensorflow:Can save best model only with acc available, skipping.\n",
      "Epoch 38/100\n",
      "13/13 [==============================] - 46s 4s/step - loss: 0.0118 - accuracy: 0.9980\n",
      "WARNING:tensorflow:Can save best model only with acc available, skipping.\n",
      "Epoch 39/100\n",
      "13/13 [==============================] - 44s 3s/step - loss: 0.0123 - accuracy: 0.9951\n",
      "WARNING:tensorflow:Can save best model only with acc available, skipping.\n",
      "Epoch 40/100\n",
      "13/13 [==============================] - 43s 3s/step - loss: 0.0115 - accuracy: 0.9971\n",
      "WARNING:tensorflow:Can save best model only with acc available, skipping.\n",
      "Epoch 41/100\n",
      "13/13 [==============================] - 45s 3s/step - loss: 0.0093 - accuracy: 0.9967\n",
      "WARNING:tensorflow:Can save best model only with acc available, skipping.\n",
      "Epoch 42/100\n",
      "13/13 [==============================] - 46s 3s/step - loss: 0.0065 - accuracy: 0.9977\n",
      "WARNING:tensorflow:Can save best model only with acc available, skipping.\n",
      "Epoch 43/100\n",
      "13/13 [==============================] - 38s 3s/step - loss: 0.0086 - accuracy: 0.9980\n",
      "WARNING:tensorflow:Can save best model only with acc available, skipping.\n",
      "Epoch 44/100\n",
      "13/13 [==============================] - 33s 3s/step - loss: 0.0060 - accuracy: 0.9984\n",
      "WARNING:tensorflow:Can save best model only with acc available, skipping.\n",
      "Epoch 45/100\n",
      "13/13 [==============================] - 35s 3s/step - loss: 0.0070 - accuracy: 0.9977\n",
      "WARNING:tensorflow:Can save best model only with acc available, skipping.\n",
      "Epoch 46/100\n",
      "13/13 [==============================] - 34s 3s/step - loss: 0.0215 - accuracy: 0.9974\n",
      "WARNING:tensorflow:Can save best model only with acc available, skipping.\n",
      "Epoch 47/100\n",
      "13/13 [==============================] - 36s 3s/step - loss: 0.0092 - accuracy: 0.9967\n",
      "WARNING:tensorflow:Can save best model only with acc available, skipping.\n",
      "Epoch 48/100\n",
      "13/13 [==============================] - 34s 3s/step - loss: 0.0196 - accuracy: 0.9941\n",
      "WARNING:tensorflow:Can save best model only with acc available, skipping.\n",
      "Epoch 49/100\n",
      "13/13 [==============================] - 34s 3s/step - loss: 0.0121 - accuracy: 0.9974\n",
      "WARNING:tensorflow:Can save best model only with acc available, skipping.\n",
      "Epoch 50/100\n",
      "13/13 [==============================] - 34s 3s/step - loss: 0.0107 - accuracy: 0.9971\n",
      "WARNING:tensorflow:Can save best model only with acc available, skipping.\n",
      "Epoch 51/100\n",
      "13/13 [==============================] - 35s 3s/step - loss: 0.0174 - accuracy: 0.9964\n",
      "WARNING:tensorflow:Can save best model only with acc available, skipping.\n",
      "Epoch 52/100\n",
      "13/13 [==============================] - 34s 3s/step - loss: 0.2057 - accuracy: 0.9489\n",
      "WARNING:tensorflow:Can save best model only with acc available, skipping.\n",
      "Epoch 53/100\n",
      "13/13 [==============================] - 34s 3s/step - loss: 0.0749 - accuracy: 0.9779\n",
      "WARNING:tensorflow:Can save best model only with acc available, skipping.\n",
      "Epoch 54/100\n",
      "13/13 [==============================] - 36s 3s/step - loss: 0.2305 - accuracy: 0.9506\n",
      "WARNING:tensorflow:Can save best model only with acc available, skipping.\n",
      "Epoch 55/100\n",
      "13/13 [==============================] - 35s 3s/step - loss: 0.0823 - accuracy: 0.9815\n",
      "WARNING:tensorflow:Can save best model only with acc available, skipping.\n",
      "Epoch 56/100\n",
      "13/13 [==============================] - 35s 3s/step - loss: 0.0306 - accuracy: 0.9915\n",
      "WARNING:tensorflow:Can save best model only with acc available, skipping.\n",
      "Epoch 57/100\n",
      "13/13 [==============================] - 34s 3s/step - loss: 0.0248 - accuracy: 0.9922\n",
      "WARNING:tensorflow:Can save best model only with acc available, skipping.\n",
      "Epoch 58/100\n",
      "13/13 [==============================] - 35s 3s/step - loss: 0.0159 - accuracy: 0.9941\n",
      "WARNING:tensorflow:Can save best model only with acc available, skipping.\n",
      "Epoch 59/100\n",
      "13/13 [==============================] - 35s 3s/step - loss: 0.0161 - accuracy: 0.9941\n",
      "WARNING:tensorflow:Can save best model only with acc available, skipping.\n",
      "Epoch 60/100\n",
      "13/13 [==============================] - 36s 3s/step - loss: 0.0127 - accuracy: 0.9961\n",
      "WARNING:tensorflow:Can save best model only with acc available, skipping.\n",
      "Epoch 61/100\n",
      "13/13 [==============================] - 36s 3s/step - loss: 0.0173 - accuracy: 0.9961\n",
      "WARNING:tensorflow:Can save best model only with acc available, skipping.\n",
      "Epoch 62/100\n",
      "13/13 [==============================] - 36s 3s/step - loss: 0.0140 - accuracy: 0.9961\n",
      "WARNING:tensorflow:Can save best model only with acc available, skipping.\n",
      "Epoch 63/100\n",
      "13/13 [==============================] - 33s 3s/step - loss: 0.0158 - accuracy: 0.9951\n",
      "WARNING:tensorflow:Can save best model only with acc available, skipping.\n",
      "Epoch 64/100\n",
      "13/13 [==============================] - 35s 3s/step - loss: 0.0140 - accuracy: 0.9971\n",
      "WARNING:tensorflow:Can save best model only with acc available, skipping.\n",
      "Epoch 65/100\n",
      "13/13 [==============================] - 34s 3s/step - loss: 0.0101 - accuracy: 0.9964\n",
      "WARNING:tensorflow:Can save best model only with acc available, skipping.\n",
      "Epoch 66/100\n",
      "13/13 [==============================] - 40s 3s/step - loss: 0.0053 - accuracy: 0.9987\n",
      "WARNING:tensorflow:Can save best model only with acc available, skipping.\n",
      "Epoch 67/100\n",
      "13/13 [==============================] - 36s 3s/step - loss: 0.0049 - accuracy: 0.9987\n",
      "WARNING:tensorflow:Can save best model only with acc available, skipping.\n",
      "Epoch 68/100\n",
      "13/13 [==============================] - 34s 3s/step - loss: 0.0112 - accuracy: 0.9977\n",
      "WARNING:tensorflow:Can save best model only with acc available, skipping.\n",
      "Epoch 69/100\n",
      "13/13 [==============================] - 35s 3s/step - loss: 0.0072 - accuracy: 0.9977\n",
      "WARNING:tensorflow:Can save best model only with acc available, skipping.\n",
      "Epoch 70/100\n",
      "13/13 [==============================] - 34s 3s/step - loss: 0.0029 - accuracy: 0.9990\n",
      "WARNING:tensorflow:Can save best model only with acc available, skipping.\n",
      "Epoch 71/100\n",
      "13/13 [==============================] - 34s 3s/step - loss: 0.0048 - accuracy: 0.9984\n",
      "WARNING:tensorflow:Can save best model only with acc available, skipping.\n",
      "Epoch 72/100\n",
      "13/13 [==============================] - 36s 3s/step - loss: 0.0122 - accuracy: 0.9993\n",
      "WARNING:tensorflow:Can save best model only with acc available, skipping.\n",
      "Epoch 73/100\n",
      "13/13 [==============================] - 36s 3s/step - loss: 0.0062 - accuracy: 0.9977\n",
      "WARNING:tensorflow:Can save best model only with acc available, skipping.\n",
      "Epoch 74/100\n",
      "13/13 [==============================] - 34s 3s/step - loss: 0.0041 - accuracy: 0.9990\n",
      "WARNING:tensorflow:Can save best model only with acc available, skipping.\n",
      "Epoch 75/100\n",
      "13/13 [==============================] - 39s 3s/step - loss: 0.0157 - accuracy: 0.9961\n",
      "WARNING:tensorflow:Can save best model only with acc available, skipping.\n",
      "Epoch 76/100\n",
      "13/13 [==============================] - 41s 3s/step - loss: 0.0130 - accuracy: 0.9954\n",
      "WARNING:tensorflow:Can save best model only with acc available, skipping.\n",
      "Epoch 77/100\n",
      "13/13 [==============================] - 36s 3s/step - loss: 0.0145 - accuracy: 0.9974\n",
      "WARNING:tensorflow:Can save best model only with acc available, skipping.\n",
      "Epoch 78/100\n",
      "13/13 [==============================] - 33s 2s/step - loss: 0.0076 - accuracy: 0.9977\n",
      "WARNING:tensorflow:Can save best model only with acc available, skipping.\n",
      "Epoch 79/100\n",
      "13/13 [==============================] - 37s 3s/step - loss: 0.0046 - accuracy: 0.9990\n",
      "WARNING:tensorflow:Can save best model only with acc available, skipping.\n",
      "Epoch 80/100\n",
      "13/13 [==============================] - 36s 3s/step - loss: 0.0074 - accuracy: 0.9984\n",
      "WARNING:tensorflow:Can save best model only with acc available, skipping.\n",
      "Epoch 81/100\n",
      "13/13 [==============================] - 36s 3s/step - loss: 0.0065 - accuracy: 0.9967\n",
      "WARNING:tensorflow:Can save best model only with acc available, skipping.\n",
      "Epoch 82/100\n",
      "13/13 [==============================] - 34s 3s/step - loss: 0.0068 - accuracy: 0.9974\n",
      "WARNING:tensorflow:Can save best model only with acc available, skipping.\n",
      "Epoch 83/100\n",
      "13/13 [==============================] - 36s 3s/step - loss: 0.0090 - accuracy: 0.9974\n",
      "WARNING:tensorflow:Can save best model only with acc available, skipping.\n",
      "Epoch 84/100\n",
      "13/13 [==============================] - 35s 3s/step - loss: 0.0072 - accuracy: 0.9971\n",
      "WARNING:tensorflow:Can save best model only with acc available, skipping.\n",
      "Epoch 85/100\n",
      "13/13 [==============================] - 34s 3s/step - loss: 0.0042 - accuracy: 0.9984\n",
      "WARNING:tensorflow:Can save best model only with acc available, skipping.\n",
      "Epoch 86/100\n",
      "13/13 [==============================] - 35s 3s/step - loss: 0.0060 - accuracy: 0.9977\n",
      "WARNING:tensorflow:Can save best model only with acc available, skipping.\n",
      "Epoch 87/100\n",
      "13/13 [==============================] - 36s 3s/step - loss: 0.0016 - accuracy: 0.9993\n",
      "WARNING:tensorflow:Can save best model only with acc available, skipping.\n",
      "Epoch 88/100\n",
      "13/13 [==============================] - 35s 3s/step - loss: 0.0062 - accuracy: 0.9990\n",
      "WARNING:tensorflow:Can save best model only with acc available, skipping.\n",
      "Epoch 89/100\n",
      "13/13 [==============================] - 34s 3s/step - loss: 0.0038 - accuracy: 0.9984\n",
      "WARNING:tensorflow:Can save best model only with acc available, skipping.\n",
      "Epoch 90/100\n",
      "13/13 [==============================] - 33s 2s/step - loss: 0.0031 - accuracy: 0.9987\n",
      "WARNING:tensorflow:Can save best model only with acc available, skipping.\n",
      "Epoch 91/100\n",
      "13/13 [==============================] - 33s 2s/step - loss: 0.0052 - accuracy: 0.9990\n",
      "WARNING:tensorflow:Can save best model only with acc available, skipping.\n",
      "Epoch 92/100\n",
      "13/13 [==============================] - 35s 3s/step - loss: 0.0108 - accuracy: 0.9980\n",
      "WARNING:tensorflow:Can save best model only with acc available, skipping.\n",
      "Epoch 93/100\n",
      "13/13 [==============================] - 31s 2s/step - loss: 0.0040 - accuracy: 0.9987\n",
      "WARNING:tensorflow:Can save best model only with acc available, skipping.\n",
      "Epoch 94/100\n",
      "13/13 [==============================] - 38s 3s/step - loss: 0.0027 - accuracy: 0.9990\n",
      "WARNING:tensorflow:Can save best model only with acc available, skipping.\n",
      "Epoch 95/100\n"
     ]
    },
    {
     "name": "stdout",
     "output_type": "stream",
     "text": [
      "13/13 [==============================] - 38s 3s/step - loss: 0.0053 - accuracy: 0.9984\n",
      "WARNING:tensorflow:Can save best model only with acc available, skipping.\n",
      "Epoch 96/100\n",
      "13/13 [==============================] - 31s 2s/step - loss: 0.0027 - accuracy: 0.9993\n",
      "WARNING:tensorflow:Can save best model only with acc available, skipping.\n",
      "Epoch 97/100\n",
      "13/13 [==============================] - 31s 2s/step - loss: 0.0019 - accuracy: 0.9993\n",
      "WARNING:tensorflow:Can save best model only with acc available, skipping.\n",
      "Epoch 98/100\n",
      "13/13 [==============================] - 31s 2s/step - loss: 0.0057 - accuracy: 0.9984\n",
      "WARNING:tensorflow:Can save best model only with acc available, skipping.\n",
      "Epoch 99/100\n",
      "13/13 [==============================] - 32s 2s/step - loss: 0.0019 - accuracy: 0.9990\n",
      "WARNING:tensorflow:Can save best model only with acc available, skipping.\n",
      "Epoch 100/100\n",
      "13/13 [==============================] - 31s 2s/step - loss: 0.0049 - accuracy: 0.9987\n",
      "WARNING:tensorflow:Can save best model only with acc available, skipping.\n"
     ]
    }
   ],
   "source": [
    "history = model.fit(x=Xtrain, y=ytrain, batch_size=256, epochs=100, callbacks=callbacks_list)"
   ]
  },
  {
   "cell_type": "code",
   "execution_count": 139,
   "id": "932b5ccc",
   "metadata": {},
   "outputs": [],
   "source": [
    "model.save(\"C:/Users/DELL/Desktop/best-model.hdf5\")"
   ]
  },
  {
   "cell_type": "code",
   "execution_count": 21,
   "id": "dd9260e8",
   "metadata": {},
   "outputs": [],
   "source": [
    "model.load_weights(\"C:/Users/DELL/Desktop/best-model.hdf5\")\n",
    "model.compile(loss='categorical_crossentropy', optimizer=adam, metrics=['accuracy'])"
   ]
  },
  {
   "cell_type": "code",
   "execution_count": 22,
   "id": "0baf3740",
   "metadata": {},
   "outputs": [
    {
     "data": {
      "text/plain": [
       "(7175, 25, 25, 16, 1)"
      ]
     },
     "execution_count": 22,
     "metadata": {},
     "output_type": "execute_result"
    }
   ],
   "source": [
    "Xtest = Xtest.reshape(-1, windowSize, windowSize, K, 1)\n",
    "Xtest.shape"
   ]
  },
  {
   "cell_type": "code",
   "execution_count": 23,
   "id": "0ec0459b",
   "metadata": {},
   "outputs": [
    {
     "data": {
      "text/plain": [
       "(7175, 16)"
      ]
     },
     "execution_count": 23,
     "metadata": {},
     "output_type": "execute_result"
    }
   ],
   "source": [
    "ytest = np_utils.to_categorical(ytest)\n",
    "ytest.shape"
   ]
  },
  {
   "cell_type": "code",
   "execution_count": 143,
   "id": "b815f129",
   "metadata": {},
   "outputs": [
    {
     "name": "stdout",
     "output_type": "stream",
     "text": [
      "              precision    recall  f1-score   support\n",
      "\n",
      "           0       1.00      1.00      1.00        32\n",
      "           1       1.00      1.00      1.00      1000\n",
      "           2       1.00      0.99      1.00       581\n",
      "           3       1.00      1.00      1.00       166\n",
      "           4       0.99      1.00      1.00       338\n",
      "           5       1.00      1.00      1.00       511\n",
      "           6       1.00      1.00      1.00        20\n",
      "           7       1.00      1.00      1.00       335\n",
      "           8       0.88      1.00      0.93        14\n",
      "           9       1.00      1.00      1.00       680\n",
      "          10       1.00      1.00      1.00      1719\n",
      "          11       1.00      1.00      1.00       415\n",
      "          12       1.00      1.00      1.00       143\n",
      "          13       1.00      1.00      1.00       886\n",
      "          14       1.00      1.00      1.00       270\n",
      "          15       1.00      1.00      1.00        65\n",
      "\n",
      "    accuracy                           1.00      7175\n",
      "   macro avg       0.99      1.00      0.99      7175\n",
      "weighted avg       1.00      1.00      1.00      7175\n",
      "\n"
     ]
    }
   ],
   "source": [
    "Y_pred_test = model.predict(Xtest)\n",
    "y_pred_test = np.argmax(Y_pred_test, axis=1)\n",
    "\n",
    "classification = classification_report(np.argmax(ytest, axis=1), y_pred_test)\n",
    "print(classification)"
   ]
  },
  {
   "cell_type": "code",
   "execution_count": 24,
   "id": "2a649d86",
   "metadata": {},
   "outputs": [],
   "source": [
    "def AA_andEachClassAccuracy(confusion_matrix):\n",
    "    counter = confusion_matrix.shape[0]\n",
    "    list_diag = np.diag(confusion_matrix)\n",
    "    list_raw_sum = np.sum(confusion_matrix, axis=1)\n",
    "    each_acc = np.nan_to_num(truediv(list_diag, list_raw_sum))\n",
    "    average_acc = np.mean(each_acc)\n",
    "    return each_acc, average_acc"
   ]
  },
  {
   "cell_type": "code",
   "execution_count": 25,
   "id": "2519c4fa",
   "metadata": {},
   "outputs": [],
   "source": [
    "def reports (X_test,y_test,name):\n",
    "    #start = time.time()\n",
    "    Y_pred = model.predict(X_test)\n",
    "    y_pred = np.argmax(Y_pred, axis=1)\n",
    "    #end = time.time()\n",
    "    #print(end - start)\n",
    "    if name == 'IP':\n",
    "        target_names = ['Alfalfa', 'Corn-notill', 'Corn-mintill', 'Corn'\n",
    "                        ,'Grass-pasture', 'Grass-trees', 'Grass-pasture-mowed', \n",
    "                        'Hay-windrowed', 'Oats', 'Soybean-notill', 'Soybean-mintill',\n",
    "                        'Soybean-clean', 'Wheat', 'Woods', 'Buildings-Grass-Trees-Drives',\n",
    "                        'Stone-Steel-Towers']\n",
    "    \n",
    "    classification = classification_report(np.argmax(y_test, axis=1), y_pred, target_names=target_names)\n",
    "    oa = accuracy_score(np.argmax(y_test, axis=1), y_pred)\n",
    "    confusion = confusion_matrix(np.argmax(y_test, axis=1), y_pred)\n",
    "    each_acc, aa = AA_andEachClassAccuracy(confusion)\n",
    "    kappa = cohen_kappa_score(np.argmax(y_test, axis=1), y_pred)\n",
    "    score = model.evaluate(X_test, y_test, batch_size=32)\n",
    "    Test_Loss =  score[0]*100\n",
    "    Test_accuracy = score[1]*100\n",
    "    \n",
    "    return classification, confusion, Test_Loss, Test_accuracy, oa*100, each_acc*100, aa*100, kappa*100"
   ]
  },
  {
   "cell_type": "code",
   "execution_count": 26,
   "id": "b6278e1e",
   "metadata": {},
   "outputs": [
    {
     "name": "stdout",
     "output_type": "stream",
     "text": [
      "225/225 [==============================] - 11s 46ms/step - loss: 0.0093 - accuracy: 0.9980\n"
     ]
    }
   ],
   "source": [
    "classification, confusion, Test_loss, Test_accuracy, oa, each_acc, aa, kappa = reports(Xtest,ytest,dataset)\n",
    "classification = str(classification)\n",
    "confusion = str(confusion)\n",
    "file_name = \"C:/Users/DELL/Desktop/classification_report.txt\"\n",
    "\n",
    "with open(file_name, 'w') as x_file:\n",
    "    x_file.write('{} Test loss (%)'.format(Test_loss))\n",
    "    x_file.write('\\n')\n",
    "    x_file.write('{} Test accuracy (%)'.format(Test_accuracy))\n",
    "    x_file.write('\\n')\n",
    "    x_file.write('\\n')\n",
    "    x_file.write('{} Kappa accuracy (%)'.format(kappa))\n",
    "    x_file.write('\\n')\n",
    "    x_file.write('{} Overall accuracy (%)'.format(oa))\n",
    "    x_file.write('\\n')\n",
    "    x_file.write('{} Average accuracy (%)'.format(aa))\n",
    "    x_file.write('\\n')\n",
    "    x_file.write('\\n')\n",
    "    x_file.write('{}'.format(classification))\n",
    "    x_file.write('\\n')\n",
    "    x_file.write('{}'.format(confusion))"
   ]
  },
  {
   "cell_type": "code",
   "execution_count": 26,
   "id": "85de6ecb",
   "metadata": {},
   "outputs": [],
   "source": [
    "def Patch(data,height_index,width_index):\n",
    "    height_slice = slice(height_index, height_index+PATCH_SIZE)\n",
    "    width_slice = slice(width_index, width_index+PATCH_SIZE)\n",
    "    patch = data[height_slice, width_slice, :]\n",
    "    \n",
    "    return patch"
   ]
  },
  {
   "cell_type": "code",
   "execution_count": 27,
   "id": "9c313375",
   "metadata": {},
   "outputs": [],
   "source": [
    "X, y = loadData(dataset)"
   ]
  },
  {
   "cell_type": "code",
   "execution_count": 28,
   "id": "d8516e42",
   "metadata": {},
   "outputs": [],
   "source": [
    "height = y.shape[0]\n",
    "width = y.shape[1]\n",
    "PATCH_SIZE = windowSize\n",
    "numComponents = K"
   ]
  },
  {
   "cell_type": "code",
   "execution_count": 29,
   "id": "75380cea",
   "metadata": {},
   "outputs": [],
   "source": [
    "X,pca = applyPCA(X, numComponents=numComponents)"
   ]
  },
  {
   "cell_type": "code",
   "execution_count": 30,
   "id": "93f354ee",
   "metadata": {},
   "outputs": [],
   "source": [
    "X = padWithZeros(X, PATCH_SIZE//2)"
   ]
  },
  {
   "cell_type": "code",
   "execution_count": 35,
   "id": "f70d3798",
   "metadata": {},
   "outputs": [],
   "source": [
    "outputs = np.zeros((height,width))\n",
    "for i in range(height):\n",
    "    for j in range(width):\n",
    "        target = int(y[i,j])\n",
    "        if target == 0 :\n",
    "            continue\n",
    "        else :\n",
    "            image_patch=Patch(X,i,j)\n",
    "            X_test_image = image_patch.reshape(1,image_patch.shape[0],image_patch.shape[1], image_patch.shape[2], 1).astype('float32')                                   \n",
    "            prediction = (model.predict(X_test_image))\n",
    "            prediction = np.argmax(prediction, axis=1)\n",
    "            outputs[i][j] = prediction+1"
   ]
  },
  {
   "cell_type": "code",
   "execution_count": 36,
   "id": "f3c35e26",
   "metadata": {},
   "outputs": [
    {
     "data": {
      "image/png": "[encoded data removed]",
      "text/plain": [
       "<Figure size 504x504 with 1 Axes>"
      ]
     },
     "metadata": {
      "needs_background": "light"
     },
     "output_type": "display_data"
    }
   ],
   "source": [
    " predict_image = spectral.imshow(classes = outputs.astype(int),figsize =(7,7))"
   ]
  },
  {
   "cell_type": "code",
   "execution_count": 37,
   "id": "acb86b4f",
   "metadata": {},
   "outputs": [
    {
     "data": {
      "image/png": "[encoded data removed]",
      "text/plain": [
       "<Figure size 504x504 with 1 Axes>"
      ]
     },
     "metadata": {
      "needs_background": "light"
     },
     "output_type": "display_data"
    }
   ],
   "source": [
    "ground_truth = spectral.imshow(classes = y,figsize =(7,7))\n"
   ]
  },
  {
   "cell_type": "code",
   "execution_count": 38,
   "id": "b2b9fb3f",
   "metadata": {},
   "outputs": [],
   "source": [
    "spectral.save_rgb(\"C:/Users/DELL/Desktop/predictions.jpg\", outputs.astype(int), colors=spectral.spy_colors)"
   ]
  },
  {
   "cell_type": "code",
   "execution_count": 39,
   "id": "257683ea",
   "metadata": {},
   "outputs": [],
   "source": [
    "spectral.save_rgb(\"C:/Users/DELL/Desktop/org.jpg\",y, colors=spectral.spy_colors)"
   ]
  },
  {
   "cell_type": "code",
   "execution_count": null,
   "id": "0ea46af5",
   "metadata": {},
   "outputs": [],
   "source": []
  }
 ],
 "metadata": {
  "kernelspec": {
   "display_name": "Python 3",
   "language": "python",
   "name": "python3"
  },
  "language_info": {
   "codemirror_mode": {
    "name": "ipython",
    "version": 3
   },
   "file_extension": ".py",
   "mimetype": "text/x-python",
   "name": "python",
   "nbconvert_exporter": "python",
   "pygments_lexer": "ipython3",
   "version": "3.8.8"
  }
 },
 "nbformat": 4,
 "nbformat_minor": 5
}
